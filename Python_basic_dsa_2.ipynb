{
  "nbformat": 4,
  "nbformat_minor": 0,
  "metadata": {
    "colab": {
      "provenance": [],
      "authorship_tag": "ABX9TyNjrmKHwBUXgcyMeudhpBst",
      "include_colab_link": true
    },
    "kernelspec": {
      "name": "python3",
      "display_name": "Python 3"
    },
    "language_info": {
      "name": "python"
    }
  },
  "cells": [
    {
      "cell_type": "markdown",
      "metadata": {
        "id": "view-in-github",
        "colab_type": "text"
      },
      "source": [
        "<a href=\"https://colab.research.google.com/github/rahul21chavan/Python_Programms/blob/main/Python_basic_dsa_2.ipynb\" target=\"_parent\"><img src=\"https://colab.research.google.com/assets/colab-badge.svg\" alt=\"Open In Colab\"/></a>"
      ]
    },
    {
      "cell_type": "code",
      "execution_count": 1,
      "metadata": {
        "colab": {
          "base_uri": "https://localhost:8080/"
        },
        "id": "5Eu4UvNp-9Q4",
        "outputId": "269475fc-8cdf-4d9c-e86a-64a2fce19803"
      },
      "outputs": [
        {
          "output_type": "stream",
          "name": "stdout",
          "text": [
            "[0, 1, 4, 9, 16, 25, 36, 49, 64, 81]\n"
          ]
        }
      ],
      "source": [
        "#square of two numbers\n",
        "lst=[]\n",
        "for x in range(10):\n",
        "  lst.append(x**2)\n",
        "print(lst)"
      ]
    },
    {
      "cell_type": "code",
      "source": [
        "cube=[x**3 for x in range(10)]\n",
        "cube"
      ],
      "metadata": {
        "colab": {
          "base_uri": "https://localhost:8080/"
        },
        "id": "_jH5BzZt_JmM",
        "outputId": "6f68a24d-8008-4ec6-c687-b5a33a03093c"
      },
      "execution_count": 3,
      "outputs": [
        {
          "output_type": "execute_result",
          "data": {
            "text/plain": [
              "[0, 1, 8, 27, 64, 125, 216, 343, 512, 729]"
            ]
          },
          "metadata": {},
          "execution_count": 3
        }
      ]
    },
    {
      "cell_type": "code",
      "source": [
        "lst=['orange','papaya','banana','mosambi','custordapple']\n",
        "lst.remove('papaya')"
      ],
      "metadata": {
        "id": "aL-hrexl_Sjo"
      },
      "execution_count": 5,
      "outputs": []
    },
    {
      "cell_type": "code",
      "source": [
        "lst[1]"
      ],
      "metadata": {
        "colab": {
          "base_uri": "https://localhost:8080/",
          "height": 35
        },
        "id": "Cm7U41qF_hg5",
        "outputId": "75e45a3e-1ad1-4dfd-f4fa-e7a849eb486c"
      },
      "execution_count": 7,
      "outputs": [
        {
          "output_type": "execute_result",
          "data": {
            "text/plain": [
              "'banana'"
            ],
            "application/vnd.google.colaboratory.intrinsic+json": {
              "type": "string"
            }
          },
          "metadata": {},
          "execution_count": 7
        }
      ]
    },
    {
      "cell_type": "code",
      "source": [
        "lst[2:5]"
      ],
      "metadata": {
        "colab": {
          "base_uri": "https://localhost:8080/"
        },
        "id": "W5FXYQl1_men",
        "outputId": "8ec81ebf-8f09-4a55-a655-8eda501f6dc4"
      },
      "execution_count": 8,
      "outputs": [
        {
          "output_type": "execute_result",
          "data": {
            "text/plain": [
              "['mosambi', 'custordapple']"
            ]
          },
          "metadata": {},
          "execution_count": 8
        }
      ]
    },
    {
      "cell_type": "code",
      "source": [
        "lst[::2]"
      ],
      "metadata": {
        "colab": {
          "base_uri": "https://localhost:8080/"
        },
        "id": "TVnqWzoJ_qi8",
        "outputId": "7dd10c74-3860-4b21-f4b4-bdc4b1b7e41e"
      },
      "execution_count": 9,
      "outputs": [
        {
          "output_type": "execute_result",
          "data": {
            "text/plain": [
              "['orange', 'mosambi']"
            ]
          },
          "metadata": {},
          "execution_count": 9
        }
      ]
    },
    {
      "cell_type": "code",
      "source": [
        "#n natural number sum\n",
        "n=10\n",
        "sum=0\n",
        "count=1\n",
        "\n",
        "for x in range(n):\n",
        "  sum=sum+count\n",
        "  count=count+1\n",
        "  print(sum)\n",
        "# print(n)"
      ],
      "metadata": {
        "colab": {
          "base_uri": "https://localhost:8080/"
        },
        "id": "sV2R5ztt_saM",
        "outputId": "f211c76c-a8e0-4d95-dcb6-d3b226505a8d"
      },
      "execution_count": 12,
      "outputs": [
        {
          "output_type": "stream",
          "name": "stdout",
          "text": [
            "1\n",
            "3\n",
            "6\n",
            "10\n",
            "15\n",
            "21\n",
            "28\n",
            "36\n",
            "45\n",
            "55\n"
          ]
        }
      ]
    },
    {
      "cell_type": "code",
      "source": [
        "n=100\n",
        "sum=0\n",
        "\n",
        "count=1\n",
        "\n",
        "for i in range(n):\n",
        "  sum=sum+count\n",
        "  count=count+1\n",
        "print(sum)"
      ],
      "metadata": {
        "colab": {
          "base_uri": "https://localhost:8080/"
        },
        "id": "lq7_F4MbALMs",
        "outputId": "5597d34d-82af-4481-b454-3542175a26a5"
      },
      "execution_count": 15,
      "outputs": [
        {
          "output_type": "stream",
          "name": "stdout",
          "text": [
            "5050\n"
          ]
        }
      ]
    },
    {
      "cell_type": "code",
      "source": [
        "for i in range(10):#even numbers\n",
        "  if i%2==0:\n",
        "    print(i)\n"
      ],
      "metadata": {
        "colab": {
          "base_uri": "https://localhost:8080/"
        },
        "id": "ebqLzzBFDS7u",
        "outputId": "46ad9ae1-4715-4a57-a9f6-6ad0d486cc16"
      },
      "execution_count": 19,
      "outputs": [
        {
          "output_type": "stream",
          "name": "stdout",
          "text": [
            "0\n",
            "2\n",
            "4\n",
            "6\n",
            "8\n"
          ]
        }
      ]
    },
    {
      "cell_type": "code",
      "source": [
        "for i in range(10):#odd numbers\n",
        "  if i%2!=0:\n",
        "    print(i)"
      ],
      "metadata": {
        "colab": {
          "base_uri": "https://localhost:8080/"
        },
        "id": "uku5d1PFDjyg",
        "outputId": "d379fbf6-cc47-49c8-c96a-a306ec1b5291"
      },
      "execution_count": 20,
      "outputs": [
        {
          "output_type": "stream",
          "name": "stdout",
          "text": [
            "1\n",
            "3\n",
            "5\n",
            "7\n",
            "9\n"
          ]
        }
      ]
    },
    {
      "cell_type": "code",
      "source": [
        "#leap year\n",
        "year=int(input('enter the number'))\n",
        "if year%4==0:\n",
        "  print('leap year')\n",
        "else:\n",
        "  print('not a leap year')"
      ],
      "metadata": {
        "colab": {
          "base_uri": "https://localhost:8080/"
        },
        "id": "S4VgQNcrDxBk",
        "outputId": "479ef6aa-767b-4594-8880-2c5c783c97c8"
      },
      "execution_count": 21,
      "outputs": [
        {
          "output_type": "stream",
          "name": "stdout",
          "text": [
            "enter the number2023\n",
            "not a leap year\n"
          ]
        }
      ]
    },
    {
      "cell_type": "code",
      "source": [
        "year=int(input('enter the number'))\n",
        "if year%400==0:\n",
        "  print('leap year')\n",
        "else:\n",
        "  print('not a leap year')"
      ],
      "metadata": {
        "colab": {
          "base_uri": "https://localhost:8080/"
        },
        "id": "MVu4O0bVENBY",
        "outputId": "e9be6dc3-709e-4d54-810c-876c23de81f2"
      },
      "execution_count": 23,
      "outputs": [
        {
          "output_type": "stream",
          "name": "stdout",
          "text": [
            "enter the number2024\n",
            "leap year\n"
          ]
        }
      ]
    },
    {
      "cell_type": "code",
      "source": [
        "#operators\n",
        "x=10\n",
        "y=20\n",
        "c=x+y\n",
        "d=x-y\n",
        "e=x*y\n",
        "f=x/y\n",
        "print(c)\n",
        "print(d)\n",
        "print(e)\n",
        "print(f)\n"
      ],
      "metadata": {
        "colab": {
          "base_uri": "https://localhost:8080/"
        },
        "id": "LsowefinEbvw",
        "outputId": "54d1376a-7ca7-4888-ca65-6d83d83f5dbe"
      },
      "execution_count": 27,
      "outputs": [
        {
          "output_type": "stream",
          "name": "stdout",
          "text": [
            "30\n",
            "-10\n",
            "200\n",
            "0.5\n"
          ]
        }
      ]
    },
    {
      "cell_type": "code",
      "source": [
        "a=22\n",
        "b=44\n",
        "c=a%b"
      ],
      "metadata": {
        "colab": {
          "base_uri": "https://localhost:8080/"
        },
        "id": "V3j9Wl3hEzV2",
        "outputId": "99c66b4c-a89c-4a6d-fe4a-356d6f3c34a2"
      },
      "execution_count": 29,
      "outputs": [
        {
          "output_type": "stream",
          "name": "stdout",
          "text": [
            "22\n"
          ]
        }
      ]
    },
    {
      "cell_type": "code",
      "source": [
        "a=10\n",
        "type(a)"
      ],
      "metadata": {
        "colab": {
          "base_uri": "https://localhost:8080/"
        },
        "id": "Db2ZgGRKFULW",
        "outputId": "078cc396-df88-49ed-c511-a37a3ad66da8"
      },
      "execution_count": 30,
      "outputs": [
        {
          "output_type": "execute_result",
          "data": {
            "text/plain": [
              "int"
            ]
          },
          "metadata": {},
          "execution_count": 30
        }
      ]
    },
    {
      "cell_type": "code",
      "source": [
        "a='rahul'\n",
        "type(a)"
      ],
      "metadata": {
        "colab": {
          "base_uri": "https://localhost:8080/"
        },
        "id": "9gu2RSwxF1o_",
        "outputId": "1fa8826d-855a-4aa3-8816-c146c3da6e6e"
      },
      "execution_count": 31,
      "outputs": [
        {
          "output_type": "execute_result",
          "data": {
            "text/plain": [
              "str"
            ]
          },
          "metadata": {},
          "execution_count": 31
        }
      ]
    },
    {
      "cell_type": "markdown",
      "source": [
        "SLICING"
      ],
      "metadata": {
        "id": "-Q813cYcHVt3"
      }
    },
    {
      "cell_type": "code",
      "source": [
        "  lst=[1,2,3,4,5]\n",
        "  lst.reverse()\n",
        "  lst"
      ],
      "metadata": {
        "colab": {
          "base_uri": "https://localhost:8080/"
        },
        "id": "4AfId2fTF9lW",
        "outputId": "df85de2c-8675-4523-8e02-f0597c5683c1"
      },
      "execution_count": 34,
      "outputs": [
        {
          "output_type": "execute_result",
          "data": {
            "text/plain": [
              "[5, 4, 3, 2, 1]"
            ]
          },
          "metadata": {},
          "execution_count": 34
        }
      ]
    },
    {
      "cell_type": "code",
      "source": [
        "lst.pop()"
      ],
      "metadata": {
        "colab": {
          "base_uri": "https://localhost:8080/"
        },
        "id": "Gs_IRoLUHMwJ",
        "outputId": "a4a004b8-e4cf-4f6a-80c5-fcbbfb0f3c20"
      },
      "execution_count": 35,
      "outputs": [
        {
          "output_type": "execute_result",
          "data": {
            "text/plain": [
              "1"
            ]
          },
          "metadata": {},
          "execution_count": 35
        }
      ]
    },
    {
      "cell_type": "code",
      "source": [
        "lst.remove(3)"
      ],
      "metadata": {
        "id": "cQ1RPn2qHQtV"
      },
      "execution_count": 36,
      "outputs": []
    },
    {
      "cell_type": "code",
      "source": [
        "lst"
      ],
      "metadata": {
        "colab": {
          "base_uri": "https://localhost:8080/"
        },
        "id": "GW3TLj-5HTRl",
        "outputId": "bca1e37e-fc6a-4d3b-bd77-fe0f5985d68c"
      },
      "execution_count": 37,
      "outputs": [
        {
          "output_type": "execute_result",
          "data": {
            "text/plain": [
              "[5, 4, 2]"
            ]
          },
          "metadata": {},
          "execution_count": 37
        }
      ]
    },
    {
      "cell_type": "code",
      "source": [
        "lst[::-1]#reverse the list"
      ],
      "metadata": {
        "colab": {
          "base_uri": "https://localhost:8080/"
        },
        "id": "SipGk1MaHUyK",
        "outputId": "724c9af8-40dc-4dde-d87a-05ffdcb76b9f"
      },
      "execution_count": 38,
      "outputs": [
        {
          "output_type": "execute_result",
          "data": {
            "text/plain": [
              "[2, 4, 5]"
            ]
          },
          "metadata": {},
          "execution_count": 38
        }
      ]
    },
    {
      "cell_type": "code",
      "source": [
        "lst=[1,2,3]\n",
        "lst.append(4)\n",
        "lst\n",
        "lst.clear()\n",
        "lst"
      ],
      "metadata": {
        "colab": {
          "base_uri": "https://localhost:8080/"
        },
        "id": "kUsq79kVHf-1",
        "outputId": "3d1c2259-25cd-4af7-81b8-beafc19f9c26"
      },
      "execution_count": 44,
      "outputs": [
        {
          "output_type": "execute_result",
          "data": {
            "text/plain": [
              "[]"
            ]
          },
          "metadata": {},
          "execution_count": 44
        }
      ]
    },
    {
      "cell_type": "code",
      "source": [
        "lst=[1,2,3,4]\n",
        "lst.count(2)"
      ],
      "metadata": {
        "colab": {
          "base_uri": "https://localhost:8080/"
        },
        "id": "r-QKVEtkHyh6",
        "outputId": "88be48a3-2337-4070-d1f1-d15bc2e62764"
      },
      "execution_count": 45,
      "outputs": [
        {
          "output_type": "execute_result",
          "data": {
            "text/plain": [
              "1"
            ]
          },
          "metadata": {},
          "execution_count": 45
        }
      ]
    },
    {
      "cell_type": "code",
      "source": [
        "lst=[1,2,3]\n",
        "lst.copy()\n",
        "lst"
      ],
      "metadata": {
        "colab": {
          "base_uri": "https://localhost:8080/"
        },
        "id": "7TnhdrSLIQJ0",
        "outputId": "657d1c21-c3ed-41f0-9034-868dd647cc40"
      },
      "execution_count": 46,
      "outputs": [
        {
          "output_type": "execute_result",
          "data": {
            "text/plain": [
              "[1, 2, 3]"
            ]
          },
          "metadata": {},
          "execution_count": 46
        }
      ]
    },
    {
      "cell_type": "code",
      "source": [
        "lst.insert(1,'a')\n",
        "lst"
      ],
      "metadata": {
        "colab": {
          "base_uri": "https://localhost:8080/"
        },
        "id": "6JZg1DqeIXP5",
        "outputId": "9d35f8f0-65fc-46f2-efb2-7abce60bf393"
      },
      "execution_count": 48,
      "outputs": [
        {
          "output_type": "execute_result",
          "data": {
            "text/plain": [
              "[1, 'a', 'a', 2, 3]"
            ]
          },
          "metadata": {},
          "execution_count": 48
        }
      ]
    },
    {
      "cell_type": "code",
      "source": [
        "lst=[3,2,1]\n",
        "lst.sort()\n",
        "lst"
      ],
      "metadata": {
        "colab": {
          "base_uri": "https://localhost:8080/"
        },
        "id": "nRC_--oSIdnz",
        "outputId": "964427ea-46e4-4cb4-a69a-b42d3ab55f21"
      },
      "execution_count": 49,
      "outputs": [
        {
          "output_type": "execute_result",
          "data": {
            "text/plain": [
              "[1, 2, 3]"
            ]
          },
          "metadata": {},
          "execution_count": 49
        }
      ]
    },
    {
      "cell_type": "code",
      "source": [
        "print('rahul'.upper())\n",
        "print('RAhul'.lower())\n",
        "print('rahul'.capitalize())\n",
        "print('rahul'.title())\n",
        "print('hello world'.find('wor'))\n",
        "print('hello world'.endswith('.'))\n",
        "print('hello world'.startswith('h'))\n",
        "print('hellow world'.replace('h','r'))\n",
        "print('hello world'.split())\n",
        "print('hi iam rahul'.split('i'))"
      ],
      "metadata": {
        "colab": {
          "base_uri": "https://localhost:8080/"
        },
        "id": "CEYkqEYRInVL",
        "outputId": "6e4b762f-6ff5-41af-eb9e-1aed06e961dd"
      },
      "execution_count": 67,
      "outputs": [
        {
          "output_type": "stream",
          "name": "stdout",
          "text": [
            "RAHUL\n",
            "rahul\n",
            "Rahul\n",
            "Rahul\n",
            "6\n",
            "False\n",
            "True\n",
            "rellow world\n",
            "['hello', 'world']\n",
            "['h', ' ', 'am rahul']\n"
          ]
        }
      ]
    },
    {
      "cell_type": "code",
      "source": [
        "#string methods\n",
        "x='hello'\n",
        "print(x)"
      ],
      "metadata": {
        "colab": {
          "base_uri": "https://localhost:8080/"
        },
        "id": "IpFj1Q8cIxJP",
        "outputId": "e30d3b69-3395-4493-a1ae-069768a84f31"
      },
      "execution_count": 68,
      "outputs": [
        {
          "output_type": "stream",
          "name": "stdout",
          "text": [
            "hello\n"
          ]
        }
      ]
    },
    {
      "cell_type": "code",
      "source": [],
      "metadata": {
        "id": "_av2Nun3LPqS"
      },
      "execution_count": null,
      "outputs": []
    }
  ]
}