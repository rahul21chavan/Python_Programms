{
  "nbformat": 4,
  "nbformat_minor": 0,
  "metadata": {
    "colab": {
      "provenance": [],
      "authorship_tag": "ABX9TyMdiDh7Ve900VpjD+QVnS1Y"
    },
    "kernelspec": {
      "name": "python3",
      "display_name": "Python 3"
    },
    "language_info": {
      "name": "python"
    }
  },
  "cells": [
    {
      "cell_type": "markdown",
      "source": [
        "Comparison Operators"
      ],
      "metadata": {
        "id": "riSOg-dygJOk"
      }
    },
    {
      "cell_type": "code",
      "execution_count": null,
      "metadata": {
        "colab": {
          "base_uri": "https://localhost:8080/"
        },
        "id": "XqWuaTwbfv7C",
        "outputId": "82126d29-a5c9-4749-d063-db4a31b95fae"
      },
      "outputs": [
        {
          "output_type": "stream",
          "name": "stdout",
          "text": [
            "False\n"
          ]
        }
      ],
      "source": [
        "#equals to\n",
        "x=5\n",
        "y=6\n",
        "\n",
        "result=x==y\n",
        "print(result)"
      ]
    },
    {
      "cell_type": "code",
      "source": [
        "#not equal to\n",
        "x=5\n",
        "y=3\n",
        "result=x!=y\n",
        "result"
      ],
      "metadata": {
        "colab": {
          "base_uri": "https://localhost:8080/"
        },
        "id": "OKuVNyGXgO-p",
        "outputId": "611bc5a3-8cfc-4321-8334-900eb50435d8"
      },
      "execution_count": null,
      "outputs": [
        {
          "output_type": "execute_result",
          "data": {
            "text/plain": [
              "True"
            ]
          },
          "metadata": {},
          "execution_count": 5
        }
      ]
    },
    {
      "cell_type": "code",
      "source": [
        "#greter than\n",
        "x=5\n",
        "y=3\n",
        "\n",
        "result=x>y\n",
        "result"
      ],
      "metadata": {
        "colab": {
          "base_uri": "https://localhost:8080/"
        },
        "id": "dIxIW5hTgkD4",
        "outputId": "7aa371a8-dda3-46e5-9840-6d54015bae1b"
      },
      "execution_count": null,
      "outputs": [
        {
          "output_type": "execute_result",
          "data": {
            "text/plain": [
              "True"
            ]
          },
          "metadata": {},
          "execution_count": 6
        }
      ]
    },
    {
      "cell_type": "code",
      "source": [
        "#less than\n",
        "x=5\n",
        "y=6\n",
        "\n",
        "result=x<y\n",
        "result"
      ],
      "metadata": {
        "colab": {
          "base_uri": "https://localhost:8080/"
        },
        "id": "j6WGT41EgrGS",
        "outputId": "c766a33d-2a36-417d-8edd-e5d17181dc71"
      },
      "execution_count": null,
      "outputs": [
        {
          "output_type": "execute_result",
          "data": {
            "text/plain": [
              "True"
            ]
          },
          "metadata": {},
          "execution_count": 7
        }
      ]
    },
    {
      "cell_type": "code",
      "source": [
        "# Greater than or equal to (>=)\n",
        "x=6\n",
        "y=3\n",
        "\n",
        "result=x>=3\n",
        "result"
      ],
      "metadata": {
        "colab": {
          "base_uri": "https://localhost:8080/"
        },
        "id": "LkRi0qOagyCE",
        "outputId": "ea77a2fe-8545-4c91-e38e-e764e5cae0d0"
      },
      "execution_count": null,
      "outputs": [
        {
          "output_type": "execute_result",
          "data": {
            "text/plain": [
              "True"
            ]
          },
          "metadata": {},
          "execution_count": 8
        }
      ]
    },
    {
      "cell_type": "code",
      "source": [
        "# Less than or equal to (<=):\n",
        "x=5\n",
        "y=3\n",
        "\n",
        "rsult=x<=y\n",
        "rsult"
      ],
      "metadata": {
        "colab": {
          "base_uri": "https://localhost:8080/"
        },
        "id": "x79miZMnhNir",
        "outputId": "95492dc2-d6ed-4c1d-a1aa-49809e224f1a"
      },
      "execution_count": null,
      "outputs": [
        {
          "output_type": "execute_result",
          "data": {
            "text/plain": [
              "False"
            ]
          },
          "metadata": {},
          "execution_count": 9
        }
      ]
    },
    {
      "cell_type": "markdown",
      "source": [
        "Logical Operators"
      ],
      "metadata": {
        "id": "cxX8oXtBhkGi"
      }
    },
    {
      "cell_type": "code",
      "source": [
        "#and\n",
        "x=True\n",
        "y=False\n",
        "\n",
        "result =  x and y\n",
        "result"
      ],
      "metadata": {
        "colab": {
          "base_uri": "https://localhost:8080/"
        },
        "id": "5cLtJHsbhT0B",
        "outputId": "7abaaa4d-cbbb-4c90-ea7e-91644e92f9d2"
      },
      "execution_count": null,
      "outputs": [
        {
          "output_type": "execute_result",
          "data": {
            "text/plain": [
              "False"
            ]
          },
          "metadata": {},
          "execution_count": 10
        }
      ]
    },
    {
      "cell_type": "code",
      "source": [
        "#or\n",
        "x=True\n",
        "y=False\n",
        "\n",
        "result=x or y\n",
        "result"
      ],
      "metadata": {
        "colab": {
          "base_uri": "https://localhost:8080/"
        },
        "id": "f6uihbRwhtxe",
        "outputId": "4ad096eb-eafc-43fb-c062-f8d5f73a711e"
      },
      "execution_count": null,
      "outputs": [
        {
          "output_type": "execute_result",
          "data": {
            "text/plain": [
              "True"
            ]
          },
          "metadata": {},
          "execution_count": 11
        }
      ]
    },
    {
      "cell_type": "code",
      "source": [
        "# not\n",
        "x=True\n",
        "result=not x\n",
        "result"
      ],
      "metadata": {
        "colab": {
          "base_uri": "https://localhost:8080/"
        },
        "id": "DvhC_zUciAb9",
        "outputId": "b6968e24-2ea4-4462-f87c-c247eb30a106"
      },
      "execution_count": null,
      "outputs": [
        {
          "output_type": "execute_result",
          "data": {
            "text/plain": [
              "False"
            ]
          },
          "metadata": {},
          "execution_count": 12
        }
      ]
    },
    {
      "cell_type": "markdown",
      "source": [
        "Make a program that asks for a person's age and displays whether they\n",
        "are of legal age or not"
      ],
      "metadata": {
        "id": "d6sASXY7iVQz"
      }
    },
    {
      "cell_type": "code",
      "source": [
        "age=int(input('enter the age:'))\n",
        "\n",
        "if age>=18:\n",
        "  print(\"you are legal age\")\n",
        "else:\n",
        "  print('\"not a legal age\"')"
      ],
      "metadata": {
        "colab": {
          "base_uri": "https://localhost:8080/"
        },
        "id": "J5dFDd2kiQtp",
        "outputId": "7c12cd21-2edb-4e17-bde3-90b955f49438"
      },
      "execution_count": null,
      "outputs": [
        {
          "output_type": "stream",
          "name": "stdout",
          "text": [
            "enter the age:99\n",
            "you are legal age\n"
          ]
        }
      ]
    },
    {
      "cell_type": "markdown",
      "source": [
        "Write a program that reads two numbers and tells you which one is\n",
        "bigger."
      ],
      "metadata": {
        "id": "m1zqivKVixz3"
      }
    },
    {
      "cell_type": "code",
      "source": [
        "num1=float(input('enter a num:'))\n",
        "num2=float(input('enter  a second num:'))\n",
        "\n",
        "if num1>num2:\n",
        "  print('num is bigger')\n",
        "elif num1<num2:\n",
        "  print('num2 is bigger')\n",
        "else:\n",
        "  print('both are equal')\n"
      ],
      "metadata": {
        "colab": {
          "base_uri": "https://localhost:8080/"
        },
        "id": "I5IWtNF9ijsF",
        "outputId": "d17147be-27bf-4820-c3ca-e7f550b70633"
      },
      "execution_count": null,
      "outputs": [
        {
          "output_type": "stream",
          "name": "stdout",
          "text": [
            "enter a num:9\n",
            "enter  a second num:0\n",
            "num is bigger\n"
          ]
        }
      ]
    },
    {
      "cell_type": "markdown",
      "source": [
        "Write a program that asks the user for three numbers and displays the\n",
        "largest one"
      ],
      "metadata": {
        "id": "fKBP0xjmjb1V"
      }
    },
    {
      "cell_type": "code",
      "source": [
        "num1=float(input('enter a first num'))\n",
        "num2=float(input('enter the second num'))\n",
        "num3=float(input('enter the third num'))\n",
        "\n",
        "if num1>num2 and num1>num3:\n",
        "  print('num1 is big')\n",
        "elif num2>num1 and num2>num3:\n",
        "  print('num2 is big')\n",
        "else:\n",
        "  print('all are equal')\n"
      ],
      "metadata": {
        "colab": {
          "base_uri": "https://localhost:8080/"
        },
        "id": "xf2ZFPbBjMmF",
        "outputId": "f6b65a76-a48c-428e-da26-03e644c33955"
      },
      "execution_count": null,
      "outputs": [
        {
          "output_type": "stream",
          "name": "stdout",
          "text": [
            "enter a first num88\n",
            "enter the second num88\n",
            "enter the third num88\n",
            "all are equal\n"
          ]
        }
      ]
    },
    {
      "cell_type": "markdown",
      "source": [
        "Write a program that reads a number and reports whether it is odd or\n",
        "even"
      ],
      "metadata": {
        "id": "qj2qPL7OkAjv"
      }
    },
    {
      "cell_type": "code",
      "source": [
        "number=int(input('enter the number'))\n",
        "\n",
        "if number%2==0:\n",
        "  print('even')\n",
        "else:\n",
        "  print('odd')"
      ],
      "metadata": {
        "colab": {
          "base_uri": "https://localhost:8080/"
        },
        "id": "3RnxwEMwj6oC",
        "outputId": "7cf1af46-f7f6-4a62-e28c-fd8bf68ad7a8"
      },
      "execution_count": null,
      "outputs": [
        {
          "output_type": "stream",
          "name": "stdout",
          "text": [
            "enter the number24\n",
            "even\n"
          ]
        }
      ]
    },
    {
      "cell_type": "markdown",
      "source": [
        "Write a program that reads a number and reports whether it is positive,\n",
        "negative or zero"
      ],
      "metadata": {
        "id": "2nKzofX1kRPp"
      }
    },
    {
      "cell_type": "code",
      "source": [
        "number=float(input('enter the num'))\n",
        "\n",
        "if number>0:\n",
        "  print('positive')\n",
        "elif number<0:\n",
        "  print('negative')\n",
        "else:\n",
        "  print('zero')"
      ],
      "metadata": {
        "colab": {
          "base_uri": "https://localhost:8080/"
        },
        "id": "t3hLX2D2kIjT",
        "outputId": "4ec5ad3b-a1e4-4384-faa1-25957f2b3222"
      },
      "execution_count": null,
      "outputs": [
        {
          "output_type": "stream",
          "name": "stdout",
          "text": [
            "enter the num-1\n",
            "negative\n"
          ]
        }
      ]
    },
    {
      "cell_type": "markdown",
      "source": [
        "Make a program that reads the scores of two tests and reports whether the\n",
        "student passed (score greater than or equal to 6) or failed (score less than 6)\n",
        "in each of the tests."
      ],
      "metadata": {
        "id": "s8KPnbsblinT"
      }
    },
    {
      "cell_type": "code",
      "source": [
        "sc1=float(input('enter the score'))\n",
        "sc2=float(input('entee the second score'))\n",
        "\n",
        "if sc1>=6 and sc2>=6:\n",
        "  print('passed')\n",
        "else:\n",
        "  print('failed')"
      ],
      "metadata": {
        "colab": {
          "base_uri": "https://localhost:8080/"
        },
        "id": "F2xLthcTkeOv",
        "outputId": "b0da91af-baa9-4538-8973-7742a78fca42"
      },
      "execution_count": null,
      "outputs": [
        {
          "output_type": "stream",
          "name": "stdout",
          "text": [
            "enter the score8\n",
            "entee the second score4\n",
            "failed\n"
          ]
        }
      ]
    },
    {
      "cell_type": "code",
      "source": [
        "sc1=float(input('enter the score'))\n",
        "sc2=float(input('entee the second score'))\n",
        "\n",
        "if sc1>=6:\n",
        "  print('passed')\n",
        "else:\n",
        "  print('failed')\n",
        "if sc2>=6:\n",
        "  print('passed')\n",
        "else:\n",
        "  print('failed')"
      ],
      "metadata": {
        "colab": {
          "base_uri": "https://localhost:8080/"
        },
        "id": "gp4a2qiWl1Qz",
        "outputId": "7bc60ca0-55d8-4d24-8e94-ef3456e038d3"
      },
      "execution_count": null,
      "outputs": [
        {
          "output_type": "stream",
          "name": "stdout",
          "text": [
            "enter the score8\n",
            "entee the second score4\n",
            "passed\n",
            "failed\n"
          ]
        }
      ]
    },
    {
      "cell_type": "markdown",
      "source": [
        "Make a program that reads the grades of two tests, calculates the simple\n",
        "arithmetic mean, and informs whether the student passed (average greater\n",
        "than or equal to 6) or failed (average less than 6)"
      ],
      "metadata": {
        "id": "u8MUz0NDnAy6"
      }
    },
    {
      "cell_type": "code",
      "source": [
        "grade1=float(input('enter the grade'))\n",
        "grade2=float(input('enter the second grade'))\n",
        "\n",
        "avg=(grade1+grade2)/2\n",
        "\n",
        "if avg>=6:\n",
        "  print('passed')\n",
        "else:\n",
        "  print('failed')\n"
      ],
      "metadata": {
        "colab": {
          "base_uri": "https://localhost:8080/"
        },
        "id": "C-rMXGmdmF_n",
        "outputId": "5718b8d6-a9fa-459e-bd9e-da6739a45cd3"
      },
      "execution_count": null,
      "outputs": [
        {
          "output_type": "stream",
          "name": "stdout",
          "text": [
            "enter the grade9\n",
            "enter the second grade8\n",
            "passed\n"
          ]
        }
      ]
    },
    {
      "cell_type": "markdown",
      "source": [
        "Make a program that reads three numbers, and informs if their sum is\n",
        "divisible by 5 or not.\n"
      ],
      "metadata": {
        "id": "ilkgzfiXnwZD"
      }
    },
    {
      "cell_type": "code",
      "source": [
        "num1=int(input('enter the num'))\n",
        "num2=int(input('enter the second num'))\n",
        "num3=int(input('enter the third num'))\n",
        "\n",
        "sum_of_num=num1+num2+num3\n",
        "\n",
        "if sum_of_num%5==0:\n",
        "  print('divisible by 5')\n",
        "else:\n",
        "  print('not divisible by 5')"
      ],
      "metadata": {
        "colab": {
          "base_uri": "https://localhost:8080/"
        },
        "id": "B56V8b2LnGdl",
        "outputId": "1a1b0c36-c06f-4b14-ebfc-11eb9ab6db24"
      },
      "execution_count": null,
      "outputs": [
        {
          "output_type": "stream",
          "name": "stdout",
          "text": [
            "enter the num5\n",
            "enter the second num5\n",
            "enter the third num5\n",
            "divisible by 5\n"
          ]
        }
      ]
    },
    {
      "cell_type": "markdown",
      "source": [
        "Create a program that reads three numbers and checks if their sum is\n",
        "positive, negative or equal to zero\n"
      ],
      "metadata": {
        "id": "n_Mhwhunoj7W"
      }
    },
    {
      "cell_type": "code",
      "source": [
        "num1=float(input('enter first num'))\n",
        "num2=float(input('enter the second num'))\n",
        "num3=float(input('enter the third num'))\n",
        "\n",
        "sum=num1+num2+num3\n",
        "\n",
        "if sum>0:\n",
        "  print('positive')\n",
        "elif sum<0:\n",
        "  print('negative')\n",
        "else:\n",
        "  print('sum is zero')"
      ],
      "metadata": {
        "colab": {
          "base_uri": "https://localhost:8080/"
        },
        "id": "UtsQc30GoQQQ",
        "outputId": "e05a0cdb-a275-423c-e0a6-c46747097ec0"
      },
      "execution_count": null,
      "outputs": [
        {
          "output_type": "stream",
          "name": "stdout",
          "text": [
            "enter first num11\n",
            "enter the second num11\n",
            "enter the third num11\n",
            "positive\n"
          ]
        }
      ]
    },
    {
      "cell_type": "markdown",
      "source": [
        "Make a program that reads three numbers, and displays them on the\n",
        "screen in ascending orde"
      ],
      "metadata": {
        "id": "GA6Tmhiipeb5"
      }
    },
    {
      "cell_type": "code",
      "source": [
        "num1=float(input('enter  the num1'))\n",
        "num2=float(input('enter the second num'))\n",
        "num3=float(input('ente the third num'))\n",
        "\n",
        "numbers=[num1, num2, num3]\n",
        "numbers.sort()\n",
        "print(numbers)"
      ],
      "metadata": {
        "colab": {
          "base_uri": "https://localhost:8080/"
        },
        "id": "xGE8XYsXo94R",
        "outputId": "5b958917-b424-4f7a-ffcd-2658280b8424"
      },
      "execution_count": null,
      "outputs": [
        {
          "output_type": "stream",
          "name": "stdout",
          "text": [
            "enter  the num188\n",
            "enter the second num34\n",
            "ente the third num12\n",
            "[12.0, 34.0, 88.0]\n"
          ]
        }
      ]
    },
    {
      "cell_type": "markdown",
      "source": [
        " Make a program that reads the age of three people and how many of them\n",
        "are of legal age (age 18 or older)"
      ],
      "metadata": {
        "id": "kwCpByI_qzCu"
      }
    },
    {
      "cell_type": "code",
      "source": [
        "age1=int(input('enter the age'))\n",
        "age2=int(input('enter the second age'))\n",
        "age3=int(input('enter the third age'))\n",
        "\n",
        "legal_age=0\n",
        "\n",
        "if age1>=18:\n",
        "  legal_age+=1\n",
        "if age2>=18:\n",
        "  legal_age+=1\n",
        "if age3>=18:\n",
        "  legal_age+=1\n",
        "\n",
        "print('number of legal age people:',legal_age)"
      ],
      "metadata": {
        "colab": {
          "base_uri": "https://localhost:8080/"
        },
        "id": "mHYNTrJDpyrU",
        "outputId": "cffc809a-5438-4bb8-ad44-017ebb4f1561"
      },
      "execution_count": null,
      "outputs": [
        {
          "output_type": "stream",
          "name": "stdout",
          "text": [
            "enter the age19\n",
            "enter the second age17\n",
            "enter the third age5\n",
            "number of legal age people: 1\n"
          ]
        }
      ]
    },
    {
      "cell_type": "markdown",
      "source": [
        "Write a program that reads three numbers and tells you if they can be the\n",
        "sides of a triangle (the sum of two sides must always be greater than the third\n",
        "side)."
      ],
      "metadata": {
        "id": "Nc2qKxy_rtC4"
      }
    },
    {
      "cell_type": "code",
      "source": [
        "side1=float(input('enter side1'))\n",
        "side2=float(input('enter the side2'))\n",
        "side3=float(input('enter the side3'))\n",
        "\n",
        "if side1+side2>side3 and side1+side3>side2 and side2+side3>side1:\n",
        "  print('its a triangle')\n",
        "else:\n",
        "  print('not a triangle')"
      ],
      "metadata": {
        "colab": {
          "base_uri": "https://localhost:8080/"
        },
        "id": "ytnh33UErZgI",
        "outputId": "a6a3b4e9-927a-4c0a-ad74-7d41f593e7e1"
      },
      "execution_count": null,
      "outputs": [
        {
          "output_type": "stream",
          "name": "stdout",
          "text": [
            "enter side110\n",
            "enter the side220\n",
            "enter the side316\n",
            "its a triangle\n"
          ]
        }
      ]
    },
    {
      "cell_type": "markdown",
      "source": [
        "Make a program that reads the year of birth of a person and informs if he\n",
        "is able to vote (age greater than or equal to 16 years old)"
      ],
      "metadata": {
        "id": "eib_MT_msRad"
      }
    },
    {
      "cell_type": "code",
      "source": [
        "year=int(input('enter the year'))\n",
        "\n",
        "import datetime\n",
        "current_yr=datetime.datetime.now().year\n",
        "\n",
        "age=current_yr-year\n",
        "\n",
        "if age>18:\n",
        "  print('able to vote')\n",
        "else:\n",
        "  print('not able to vote')"
      ],
      "metadata": {
        "colab": {
          "base_uri": "https://localhost:8080/"
        },
        "id": "JBz2VSQPsG7S",
        "outputId": "b71a66b0-537d-4d30-f446-5be827dc5f15"
      },
      "execution_count": null,
      "outputs": [
        {
          "output_type": "stream",
          "name": "stdout",
          "text": [
            "enter the year2010\n",
            "not able to vote\n"
          ]
        }
      ]
    },
    {
      "cell_type": "markdown",
      "source": [
        "Make a program that reads three grades from a student and reports\n",
        "whether he passed (final grade greater than or equal to 7), failed (final grade\n",
        "less than 4) or was in recovery (final grade between 4 and 7)"
      ],
      "metadata": {
        "id": "kfjg9mv6tGWA"
      }
    },
    {
      "cell_type": "code",
      "source": [
        "grade1=float(input('enter the grade1'))\n",
        "grade2=float(input('enter the next grade2'))\n",
        "grade3=float(input('enter the third grade3'))\n",
        "\n",
        "avg_grade=(grade1+grade2+grade3)/3\n",
        "\n",
        "if avg_grade>=7:\n",
        "    result= \"passed\"\n",
        "elif avg_grade<4:\n",
        "    result=\"failed\"\n",
        "else:\n",
        "    result=\"recovery\"\n",
        "result"
      ],
      "metadata": {
        "colab": {
          "base_uri": "https://localhost:8080/",
          "height": 87
        },
        "id": "NaJIu5T7smpT",
        "outputId": "bdd9fa92-13d9-40ea-b98c-62042f4ee9f6"
      },
      "execution_count": null,
      "outputs": [
        {
          "name": "stdout",
          "output_type": "stream",
          "text": [
            "enter the grade133\n",
            "enter the next grade233\n",
            "enter the third grade333\n"
          ]
        },
        {
          "output_type": "execute_result",
          "data": {
            "text/plain": [
              "'passed'"
            ],
            "application/vnd.google.colaboratory.intrinsic+json": {
              "type": "string"
            }
          },
          "metadata": {},
          "execution_count": 37
        }
      ]
    },
    {
      "cell_type": "markdown",
      "source": [
        "Write a program that asks for the name of a day of the week and displays\n",
        "whether it is a weekday (Monday to Friday) or a weekend day (Saturday and\n",
        "Sunday)"
      ],
      "metadata": {
        "id": "rVJPxPg9uXa0"
      }
    },
    {
      "cell_type": "code",
      "source": [
        "day=input('enter the name of day:')\n",
        "\n",
        "day=day.lower()\n",
        "\n",
        "if day=='saturday' or day=='sunday':\n",
        "  result ='weekend day'\n",
        "else:\n",
        "  result='weekday'\n",
        "\n",
        "result"
      ],
      "metadata": {
        "colab": {
          "base_uri": "https://localhost:8080/",
          "height": 52
        },
        "id": "KFB2XmqIttSs",
        "outputId": "4501f531-2797-4b80-fa5f-e229215d92a6"
      },
      "execution_count": null,
      "outputs": [
        {
          "name": "stdout",
          "output_type": "stream",
          "text": [
            "enter the name of day:monday\n"
          ]
        },
        {
          "output_type": "execute_result",
          "data": {
            "text/plain": [
              "'weekday'"
            ],
            "application/vnd.google.colaboratory.intrinsic+json": {
              "type": "string"
            }
          },
          "metadata": {},
          "execution_count": 38
        }
      ]
    },
    {
      "cell_type": "markdown",
      "source": [
        "Write a program that asks for a person's height and weight and calculates\n",
        "their body mass index (BMI), displaying the corresponding category\n",
        "(underweight, normal weight, overweight, obese, severely obese)"
      ],
      "metadata": {
        "id": "ptNuwHS-vjDx"
      }
    },
    {
      "cell_type": "code",
      "source": [
        "ht=float(input('enter the ht'))\n",
        "wt=float(input('enter the wt'))\n",
        "\n",
        "bmi=wt/(ht**2)\n",
        "\n",
        "if bmi<18.5:\n",
        "  category='underwt'\n",
        "elif bmi<25:\n",
        "  category='normalwt'\n",
        "elif bmi<30:\n",
        "  category='overwt'\n",
        "elif bmi<35:\n",
        "  category='obese'\n",
        "else:\n",
        "  category='severly obese'\n",
        "\n",
        "print('ur bmi',bmi)\n",
        "print(category)\n"
      ],
      "metadata": {
        "colab": {
          "base_uri": "https://localhost:8080/"
        },
        "id": "xwT5F7Pzuvx4",
        "outputId": "bd2051fc-0cac-40ea-a891-d2f77c0681a0"
      },
      "execution_count": null,
      "outputs": [
        {
          "output_type": "stream",
          "name": "stdout",
          "text": [
            "enter the ht3\n",
            "enter the wt60\n",
            "ur bmi 6.666666666666667\n",
            "underwt\n"
          ]
        }
      ]
    },
    {
      "cell_type": "markdown",
      "source": [
        "Write a program that asks for an integer and checks if it is divisible by 3\n",
        "and 5 at the same time"
      ],
      "metadata": {
        "id": "RiJ7kM-RwwZF"
      }
    },
    {
      "cell_type": "code",
      "source": [
        "num=int(input('enter the num'))\n",
        "\n",
        "if num%3==0 and num%5==0:\n",
        "  result='div by 3 and 5'\n",
        "else:\n",
        "  result='not div by 3 and 5'\n",
        "result"
      ],
      "metadata": {
        "colab": {
          "base_uri": "https://localhost:8080/",
          "height": 52
        },
        "id": "wOK6N7lOwePb",
        "outputId": "37058777-e52b-4f8b-e8d5-2fc10138a73b"
      },
      "execution_count": null,
      "outputs": [
        {
          "name": "stdout",
          "output_type": "stream",
          "text": [
            "enter the num30\n"
          ]
        },
        {
          "output_type": "execute_result",
          "data": {
            "text/plain": [
              "'div by 3 and 5'"
            ],
            "application/vnd.google.colaboratory.intrinsic+json": {
              "type": "string"
            }
          },
          "metadata": {},
          "execution_count": 40
        }
      ]
    },
    {
      "cell_type": "markdown",
      "source": [
        "Create a program that asks for a person's age and displays whether they\n",
        "are a child (0-12 years old), teenager (13-17 years old), adult (18-59 years old),\n",
        "or elderly (60 years old or older)"
      ],
      "metadata": {
        "id": "IP2ffJVjxIlD"
      }
    },
    {
      "cell_type": "code",
      "source": [
        "age=int(input('enter the age'))\n",
        "\n",
        "if age <=12:\n",
        "  category='child'\n",
        "elif age<=17:\n",
        "  category='teen'\n",
        "elif age <=59:\n",
        "  category='adult'\n",
        "else:\n",
        "  category='elde'\n",
        "category\n"
      ],
      "metadata": {
        "colab": {
          "base_uri": "https://localhost:8080/",
          "height": 52
        },
        "id": "-jRSsLh4xCso",
        "outputId": "2472c88e-70d0-4db6-ea5a-026b9f654842"
      },
      "execution_count": null,
      "outputs": [
        {
          "name": "stdout",
          "output_type": "stream",
          "text": [
            "enter the age44\n"
          ]
        },
        {
          "output_type": "execute_result",
          "data": {
            "text/plain": [
              "'adult'"
            ],
            "application/vnd.google.colaboratory.intrinsic+json": {
              "type": "string"
            }
          },
          "metadata": {},
          "execution_count": 41
        }
      ]
    },
    {
      "cell_type": "markdown",
      "source": [
        "Make a program that asks for two numbers and displays if the first is\n",
        "divisible by the second\n"
      ],
      "metadata": {
        "id": "_64QG4Tsxx8n"
      }
    },
    {
      "cell_type": "code",
      "source": [
        "num1=int(input('enter the num1'))\n",
        "num2=int(input('enter the num2'))\n",
        "\n",
        "if num1%num2==0:\n",
        "  result='div'\n",
        "else:\n",
        "  result='not div'\n",
        "result"
      ],
      "metadata": {
        "colab": {
          "base_uri": "https://localhost:8080/",
          "height": 70
        },
        "id": "ccxmIG4ixrPQ",
        "outputId": "e7918d7b-c65d-4f1f-e76b-f64b826dbee2"
      },
      "execution_count": null,
      "outputs": [
        {
          "name": "stdout",
          "output_type": "stream",
          "text": [
            "enter the num112\n",
            "enter the num212\n"
          ]
        },
        {
          "output_type": "execute_result",
          "data": {
            "text/plain": [
              "'div'"
            ],
            "application/vnd.google.colaboratory.intrinsic+json": {
              "type": "string"
            }
          },
          "metadata": {},
          "execution_count": 42
        }
      ]
    },
    {
      "cell_type": "code",
      "source": [],
      "metadata": {
        "id": "yAkuUvS-yERA"
      },
      "execution_count": null,
      "outputs": []
    }
  ]
}