{
 "cells": [
  {
   "cell_type": "markdown",
   "metadata": {},
   "source": [
    "#Correct spellings with python"
   ]
  },
  {
   "cell_type": "code",
   "execution_count": 1,
   "metadata": {},
   "outputs": [],
   "source": [
    "#TextBlob is a python library and offers a simple API to access its methods and perform basic NLP tasks. \n"
   ]
  },
  {
   "cell_type": "code",
   "execution_count": 3,
   "metadata": {},
   "outputs": [],
   "source": [
    "#Importing textblob library\n",
    "from textblob import TextBlob"
   ]
  },
  {
   "cell_type": "code",
   "execution_count": 4,
   "metadata": {},
   "outputs": [],
   "source": [
    "#defining correct spellinng function\n",
    "def correct_spell(words):\n",
    "    correct_words =[]\n",
    "    for i in words:\n",
    "        #converting the wrong_word in to correct spell and using textblob\n",
    "        correct_words.append(TextBlob(i))\n",
    "    print(\"wrong words:\", words)\n",
    "    print(\"corrected words are :\")\n",
    "    corrected_words = []\n",
    "    for i in correct_words:\n",
    "        corrected_words.append(i.correct())\n",
    "    return corrected_words"
   ]
  },
  {
   "cell_type": "code",
   "execution_count": 5,
   "metadata": {},
   "outputs": [
    {
     "name": "stdout",
     "output_type": "stream",
     "text": [
      "wrong words: ['learing', 'learnee', 'leath']\n",
      "corrected words are :\n",
      "leaving learned death "
     ]
    }
   ],
   "source": [
    "#giving our input in variable \n",
    "words = ['learing','learnee','leath']\n",
    "\n",
    "correct_words=correct_spell(words)\n",
    "for i in correct_words:\n",
    "    print(i,end=\" \")"
   ]
  },
  {
   "cell_type": "code",
   "execution_count": null,
   "metadata": {},
   "outputs": [],
   "source": []
  }
 ],
 "metadata": {
  "kernelspec": {
   "display_name": "Python 3",
   "language": "python",
   "name": "python3"
  },
  "language_info": {
   "codemirror_mode": {
    "name": "ipython",
    "version": 3
   },
   "file_extension": ".py",
   "mimetype": "text/x-python",
   "name": "python",
   "nbconvert_exporter": "python",
   "pygments_lexer": "ipython3",
   "version": "3.12.1"
  }
 },
 "nbformat": 4,
 "nbformat_minor": 2
}
