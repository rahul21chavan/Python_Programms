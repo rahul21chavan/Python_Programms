{
  "nbformat": 4,
  "nbformat_minor": 0,
  "metadata": {
    "colab": {
      "provenance": [],
      "authorship_tag": "ABX9TyOGhHcp+wj1vhhME2Bx6pLd"
    },
    "kernelspec": {
      "name": "python3",
      "display_name": "Python 3"
    },
    "language_info": {
      "name": "python"
    }
  },
  "cells": [
    {
      "cell_type": "markdown",
      "source": [
        " 1]Write a program that prompts the user for two numbers and\n",
        "displays the addition, subtraction, multiplication, and division\n",
        "between them."
      ],
      "metadata": {
        "id": "JSTj0FvkWLnO"
      }
    },
    {
      "cell_type": "code",
      "execution_count": null,
      "metadata": {
        "colab": {
          "base_uri": "https://localhost:8080/"
        },
        "id": "KxUFyE7EWIqj",
        "outputId": "9b61d39b-104a-40aa-bdd7-bb0bce790fed"
      },
      "outputs": [
        {
          "output_type": "stream",
          "name": "stdout",
          "text": [
            "enter the first num50\n",
            "enter the second num100\n",
            "150.0\n",
            "-50.0\n",
            "5000.0\n",
            "0.5\n"
          ]
        }
      ],
      "source": [
        "\n",
        "num1=float(input('enter the first num'))\n",
        "num2=float(input('enter the second num'))\n",
        "\n",
        "#perform the airthmatic operations\n",
        "\n",
        "add=num1+num2\n",
        "sub=num1-num2\n",
        "mul=num1*num2\n",
        "div=num1/num2\n",
        "\n",
        "#print\n",
        "print(add)\n",
        "print(sub)\n",
        "print(mul)\n",
        "print(div)"
      ]
    },
    {
      "cell_type": "markdown",
      "source": [
        "Write a program that calculates the arithmetic mean of two\n",
        "numbers."
      ],
      "metadata": {
        "id": "2vme6EiRXBWu"
      }
    },
    {
      "cell_type": "code",
      "source": [
        "mean=(num1+num2)/2\n",
        "print(mean)"
      ],
      "metadata": {
        "colab": {
          "base_uri": "https://localhost:8080/"
        },
        "id": "C40yEmXVW3tD",
        "outputId": "bdaee8f7-9f95-4972-da59-a6a25ddbd0a4"
      },
      "execution_count": null,
      "outputs": [
        {
          "output_type": "stream",
          "name": "stdout",
          "text": [
            "75.0\n"
          ]
        }
      ]
    },
    {
      "cell_type": "markdown",
      "source": [
        "Create a program that calculates and displays the arithmetic\n",
        "mean of three grades entered by the user"
      ],
      "metadata": {
        "id": "zNdgbiCVXNXv"
      }
    },
    {
      "cell_type": "code",
      "source": [
        "grade1=float(input('enter the num'))\n",
        "grade2=float(input(\"enter second grade\"))\n",
        "grade3=float(input('enter the third num'))\n",
        "\n",
        "mean=(grade1+grade2+grade3)/3\n",
        "\n",
        "print(mean)"
      ],
      "metadata": {
        "colab": {
          "base_uri": "https://localhost:8080/"
        },
        "id": "3zw5ViebXIU4",
        "outputId": "a1f821e6-b037-48f0-bd84-7d6947bc7508"
      },
      "execution_count": null,
      "outputs": [
        {
          "output_type": "stream",
          "name": "stdout",
          "text": [
            "enter the num78\n",
            "enter second grade87\n",
            "enter the third num45\n",
            "70.0\n"
          ]
        }
      ]
    },
    {
      "cell_type": "markdown",
      "source": [
        "round of meam"
      ],
      "metadata": {
        "id": "cZ_7eXBTXpmd"
      }
    },
    {
      "cell_type": "code",
      "source": [
        "round_of=round(mean,1)\n",
        "print(round_of)"
      ],
      "metadata": {
        "colab": {
          "base_uri": "https://localhost:8080/"
        },
        "id": "T1CPLqZjXhIO",
        "outputId": "5c7f8e86-2a32-40e1-e93c-24f0f4c32a47"
      },
      "execution_count": null,
      "outputs": [
        {
          "output_type": "stream",
          "name": "stdout",
          "text": [
            "70.0\n"
          ]
        }
      ]
    },
    {
      "cell_type": "markdown",
      "source": [
        "Write a program that calculates the geometric mean of three\n",
        "numbers entered by the user\n"
      ],
      "metadata": {
        "id": "CcylSbXBX4-_"
      }
    },
    {
      "cell_type": "code",
      "source": [
        "import math\n",
        "\n",
        "num1= float(input('enter first num'))\n",
        "num2=float(input('enter the second num'))\n",
        "num3=float(input('enter the third num'))\n",
        "\n",
        "#geo mean\n",
        "\n",
        "product=num1*num2*num3\n",
        "geo_mean=math.pow(product, 1/3)\n",
        "\n",
        "print(geo_mean)"
      ],
      "metadata": {
        "colab": {
          "base_uri": "https://localhost:8080/"
        },
        "id": "rVbMG4AgXwqi",
        "outputId": "edb88933-343e-4087-a41b-229c151dcd0e"
      },
      "execution_count": null,
      "outputs": [
        {
          "output_type": "stream",
          "name": "stdout",
          "text": [
            "enter first num77\n",
            "enter the second num87\n",
            "enter the third num66\n",
            "76.18181308991589\n"
          ]
        }
      ]
    },
    {
      "cell_type": "markdown",
      "source": [
        "Write a program that calculates the BMI of an individual,\n",
        "using the formula BMI = weight / height²\n"
      ],
      "metadata": {
        "id": "6XJiVPAxYc7k"
      }
    },
    {
      "cell_type": "code",
      "source": [
        "weight=float(input('enter the wt in kg'))\n",
        "height=float(input('enter the ht in meter'))\n",
        "\n",
        "Bmi=weight/(height**2)\n",
        "\n",
        "print(\"bmi\",Bmi)"
      ],
      "metadata": {
        "colab": {
          "base_uri": "https://localhost:8080/"
        },
        "id": "PqfijFdiYVsZ",
        "outputId": "85ad5499-3fee-4f21-817f-760989c002e9"
      },
      "execution_count": null,
      "outputs": [
        {
          "output_type": "stream",
          "name": "stdout",
          "text": [
            "enter the wt in kg67\n",
            "enter the ht in meter3\n",
            "bmi 7.444444444444445\n"
          ]
        }
      ]
    },
    {
      "cell_type": "markdown",
      "source": [
        "Create a program that calculates and displays the perimeter\n",
        "of a circle, prompting the user for the radius.\n"
      ],
      "metadata": {
        "id": "BMTymSPHZExV"
      }
    },
    {
      "cell_type": "code",
      "source": [
        "import math\n",
        "\n",
        "radius= float(input('enter the radius'))\n",
        "\n",
        "# permeter=2*3.14*radius\n",
        "perimeter=2*math.pi*radius\n",
        "\n",
        "print(perimeter)"
      ],
      "metadata": {
        "colab": {
          "base_uri": "https://localhost:8080/"
        },
        "id": "s8pFSiR7Ywri",
        "outputId": "6a7285e3-c626-4bae-c51f-18b4330e2afa"
      },
      "execution_count": null,
      "outputs": [
        {
          "output_type": "stream",
          "name": "stdout",
          "text": [
            "enter the radius7\n",
            "43.982297150257104\n"
          ]
        }
      ]
    },
    {
      "cell_type": "markdown",
      "source": [
        "Write a program that calculates the area of a circle from the\n",
        "radius, using the formula A = πr"
      ],
      "metadata": {
        "id": "h-FJB_iwZh1p"
      }
    },
    {
      "cell_type": "code",
      "source": [
        "import math\n",
        "\n",
        "radius=float(input('enter the radius'))\n",
        "\n",
        "area=3.14*radius**2\n",
        "\n",
        "print(area)"
      ],
      "metadata": {
        "colab": {
          "base_uri": "https://localhost:8080/"
        },
        "id": "iynNn8nOZW13",
        "outputId": "f032234c-2245-4bc7-d7bf-3bfea60c3cd7"
      },
      "execution_count": null,
      "outputs": [
        {
          "output_type": "stream",
          "name": "stdout",
          "text": [
            "enter the radius7\n",
            "153.86\n"
          ]
        }
      ]
    },
    {
      "cell_type": "markdown",
      "source": [
        "Write a program that calculates the delta of a quadratic\n",
        "equation (Δ = b² - 4ac)."
      ],
      "metadata": {
        "id": "QZTBmeDuZxfs"
      }
    },
    {
      "cell_type": "code",
      "source": [
        "a=float(input('enter the a'))\n",
        "b=float(input('enter the b'))\n",
        "c=float(input('enter the c'))\n",
        "\n",
        "delta=b**2-4*a*c\n",
        "\n",
        "print(delta)"
      ],
      "metadata": {
        "colab": {
          "base_uri": "https://localhost:8080/"
        },
        "id": "ypgaNmlpZr5G",
        "outputId": "05cd091a-441c-4651-e3ac-2a349608d725"
      },
      "execution_count": null,
      "outputs": [
        {
          "output_type": "stream",
          "name": "stdout",
          "text": [
            "enter the a3\n",
            "enter the b3\n",
            "enter the c3\n",
            "-27.0\n"
          ]
        }
      ]
    },
    {
      "cell_type": "markdown",
      "source": [
        "Write a program that calculates the perimeter and area of a\n",
        "rectangle, using the formulas P = 2(w + l) and A = wl, where w\n",
        "is the width and l is the length\n"
      ],
      "metadata": {
        "id": "mmxkCQiVas5t"
      }
    },
    {
      "cell_type": "code",
      "source": [
        "width=float(input('enter the width'))\n",
        "length=float(input('enter the length'))\n",
        "\n",
        "perimeter=2*(width+length)\n",
        "area=width*length\n",
        "\n",
        "print(perimeter)\n",
        "print(area)"
      ],
      "metadata": {
        "colab": {
          "base_uri": "https://localhost:8080/"
        },
        "id": "2Rhxt3NCakT1",
        "outputId": "dd7a1eb5-08e1-4c81-843e-96bd3351c4a3"
      },
      "execution_count": null,
      "outputs": [
        {
          "output_type": "stream",
          "name": "stdout",
          "text": [
            "enter the width2\n",
            "enter the length4\n",
            "12.0\n",
            "8.0\n"
          ]
        }
      ]
    },
    {
      "cell_type": "markdown",
      "source": [
        "Write a program that calculates the perimeter and area of a\n",
        "triangle, using the formulas P = a + b + c and A = (b * h) / 2,\n",
        "where a, b and c are the sides of the triangle and h is the height\n",
        "relative to the side B"
      ],
      "metadata": {
        "id": "tMUUagSsbYE8"
      }
    },
    {
      "cell_type": "code",
      "source": [
        "side_a=float(input('enter the side_a'))\n",
        "side_b=float(input('enter the side_b'))\n",
        "side_c=float(input('enter the side_c'))\n",
        "ht=float(input('enter the ht'))\n",
        "\n",
        "perimeter=side_a+side_b+side_c\n",
        "area=(side_b*ht)/2\n",
        "\n",
        "print(perimeter)\n",
        "print(area)"
      ],
      "metadata": {
        "colab": {
          "base_uri": "https://localhost:8080/"
        },
        "id": "R4sdGMZLbIph",
        "outputId": "5ec15a9a-920f-4194-d331-c1f801707d3c"
      },
      "execution_count": null,
      "outputs": [
        {
          "output_type": "stream",
          "name": "stdout",
          "text": [
            "enter the side_a10\n",
            "enter the side_b10\n",
            "enter the side_c10\n",
            "enter the ht5\n",
            "30.0\n",
            "25.0\n"
          ]
        }
      ]
    },
    {
      "cell_type": "markdown",
      "source": [
        "Write a program that calculates the average velocity of an\n",
        "object, using the formula v = Δs/Δt, where v is the average\n",
        "velocity, Δs is the space variation, and Δt is the time variation\n"
      ],
      "metadata": {
        "id": "wHBHNkPKcJjI"
      }
    },
    {
      "cell_type": "code",
      "source": [
        "space_vari=float(input('enter the space var'))\n",
        "time_var=float(input('enter the time var'))\n",
        "\n",
        "avg_capacity=space_vari/time_var\n",
        "\n",
        "print(avg_capacity)"
      ],
      "metadata": {
        "colab": {
          "base_uri": "https://localhost:8080/"
        },
        "id": "M3irpYjKb6bA",
        "outputId": "5db8a00e-0eed-4fd3-bfed-069f686ab8a2"
      },
      "execution_count": null,
      "outputs": [
        {
          "output_type": "stream",
          "name": "stdout",
          "text": [
            "enter the space var34\n",
            "enter the time var2\n",
            "17.0\n"
          ]
        }
      ]
    },
    {
      "cell_type": "markdown",
      "source": [
        "Write a program that calculates the kinetic energy of a\n",
        "moving object, using the formula E = (mv²) / 2, where E is the\n",
        "kinetic energy, m is the mass of the object, and v is the velocity"
      ],
      "metadata": {
        "id": "H4B0u4KAcl9_"
      }
    },
    {
      "cell_type": "code",
      "source": [
        "mass=float(input('enter the mass'))\n",
        "velocity=float(input('enter the velocity'))\n",
        "\n",
        "#kinetic energy KE\n",
        "KE=(mass*velocity**2)/2\n",
        "\n",
        "print(KE)"
      ],
      "metadata": {
        "colab": {
          "base_uri": "https://localhost:8080/"
        },
        "id": "yrO1UrWCcbVC",
        "outputId": "4374265e-7d56-48a0-b552-3195562afee9"
      },
      "execution_count": null,
      "outputs": [
        {
          "output_type": "stream",
          "name": "stdout",
          "text": [
            "enter the mass55\n",
            "enter the velocity3\n",
            "247.5\n"
          ]
        }
      ]
    },
    {
      "cell_type": "markdown",
      "source": [
        "Write a program that calculates the work done by a force\n",
        "acting on an object, using the formula T = F * d, where T is the\n",
        "work, F is the applied force, and d is the distance traveled by\n",
        "the object"
      ],
      "metadata": {
        "id": "hprvwLY5dAFH"
      }
    },
    {
      "cell_type": "code",
      "source": [
        "applied_force=float(input('enter the force'))\n",
        "distance=float(input('enter the distance'))\n",
        "\n",
        "#work done\n",
        "work_done=applied_force*distance\n",
        "\n",
        "print(work_done)"
      ],
      "metadata": {
        "colab": {
          "base_uri": "https://localhost:8080/"
        },
        "id": "UGaL4Rqtc47w",
        "outputId": "d360b059-670a-4362-88fa-84c412608e34"
      },
      "execution_count": null,
      "outputs": [
        {
          "output_type": "stream",
          "name": "stdout",
          "text": [
            "enter the force2\n",
            "enter the distance2\n",
            "4.0\n"
          ]
        }
      ]
    },
    {
      "cell_type": "markdown",
      "source": [
        "Write a program that reads the x and y position of two\n",
        "points in the Cartesian plane, and calculates the distance\n",
        "between them."
      ],
      "metadata": {
        "id": "xfEbqT2iddpk"
      }
    },
    {
      "cell_type": "code",
      "source": [
        "import math\n",
        "\n",
        "x1=float(input('enter x1:'))\n",
        "y1=float(input('enter the y1:'))\n",
        "\n",
        "x2=float(input('enter  the x2:'))\n",
        "y2=float(input('enter the y2:'))\n",
        "\n",
        "distance=math.sqrt((x2-x1)**2+(y2-y1)**2)\n",
        "print(distance)"
      ],
      "metadata": {
        "colab": {
          "base_uri": "https://localhost:8080/"
        },
        "id": "KAMm4BR7dSTp",
        "outputId": "1e07630d-1fb3-4a29-844a-8e83e4317a2e"
      },
      "execution_count": null,
      "outputs": [
        {
          "output_type": "stream",
          "name": "stdout",
          "text": [
            "enter x1:2\n",
            "enter the y1:3\n",
            "enter  the x2:4\n",
            "enter the y2:4\n",
            "2.23606797749979\n"
          ]
        }
      ]
    },
    {
      "cell_type": "markdown",
      "source": [
        "Create a program that prompts the user for the radius of a\n",
        "sphere and calculates and displays its volume"
      ],
      "metadata": {
        "id": "I5DJWBQueE5E"
      }
    },
    {
      "cell_type": "code",
      "source": [
        "r=float(input('enter the radius:'))\n",
        "\n",
        "volume_sphere=(4/3)*3.14*r**3\n",
        "\n",
        "print(volume_sphere)"
      ],
      "metadata": {
        "colab": {
          "base_uri": "https://localhost:8080/"
        },
        "id": "hIMcT1Zld1HZ",
        "outputId": "d0fe75aa-7935-4a6c-a0ab-337f51843c58"
      },
      "execution_count": null,
      "outputs": [
        {
          "output_type": "stream",
          "name": "stdout",
          "text": [
            "enter the radius:9\n",
            "3052.08\n"
          ]
        }
      ]
    },
    {
      "cell_type": "code",
      "source": [],
      "metadata": {
        "id": "Zz9wBIZxeV9D"
      },
      "execution_count": null,
      "outputs": []
    }
  ]
}